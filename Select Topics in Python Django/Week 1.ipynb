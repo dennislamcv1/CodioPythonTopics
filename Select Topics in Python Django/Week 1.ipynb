{
 "cells": [
  {
   "cell_type": "markdown",
   "id": "a8653842",
   "metadata": {},
   "source": [
    "This Django app has two templates — django.html and python.html. Open the views.py file in the Django app and create class-based views for both templates. The class-based views should be named DjangoPageView and PythonPageView."
   ]
  },
  {
   "cell_type": "code",
   "execution_count": null,
   "id": "a47625d2",
   "metadata": {},
   "outputs": [],
   "source": [
    "from django.views.generic import TemplateView\n",
    "\n",
    "class DjangoPageView(TemplateView):\n",
    "    template_name = \"django.html\"\n",
    "\n",
    "class PythonPageView(TemplateView):\n",
    "    template_name = \"python.html\"\n"
   ]
  },
  {
   "cell_type": "markdown",
   "id": "009c169a",
   "metadata": {},
   "source": [
    "Now that we have two class-based views, create the urls.py file such that the pattern \"\" renders the DjangoPageView class-based view and has the name \"django\". The \"python/\" pattern renders the PythonPageView class-based view and has the name \"python\"."
   ]
  },
  {
   "cell_type": "code",
   "execution_count": null,
   "id": "de1ecb00",
   "metadata": {},
   "outputs": [],
   "source": [
    "from django.urls import path\n",
    "from .views import DjangoPageView, PythonPageView\n",
    "\n",
    "urlpatterns = [\n",
    "    path(\"\", DjangoPageView.as_view(), name=\"django\"),\n",
    "    path(\"python/\", PythonPageView.as_view(), name=\"python\"),\n",
    "]\n"
   ]
  },
  {
   "cell_type": "markdown",
   "id": "a1117499",
   "metadata": {},
   "source": [
    "Use Django’s built-in template tags to add a link to django.html and python.html. The the in the links should be Django or Python, and the links allow you to go from one page to another."
   ]
  },
  {
   "cell_type": "code",
   "execution_count": null,
   "id": "e2102f58",
   "metadata": {},
   "outputs": [],
   "source": [
    "<h1>Django</h1>\n",
    "\n",
    "<p>Django was created in 2003.</p>\n",
    "<p>The framework was named for jazz guitarist Django Reinhardt.</p>\n",
    "<p>Adrian Holovaty, Simon Willison, and Jacob Kaplan-Moss are the co-creators of Django.</p>\n",
    "<a href=\"{% url 'python' %}\">Python</a>\n"
   ]
  },
  {
   "cell_type": "code",
   "execution_count": null,
   "id": "2c0170b7",
   "metadata": {},
   "outputs": [],
   "source": [
    "<h1>Python</h1>\n",
    "\n",
    "<p>Python was created in 1991.</p>\n",
    "<p>The language was named for the British comedy troupe Monty Python's Flying Circus.</p>\n",
    "<p>Guido van Rossum is the creator of Python.</p>\n",
    "<a href=\"{% url 'django' %}\">Django</a>\n"
   ]
  },
  {
   "cell_type": "markdown",
   "id": "39ef1009",
   "metadata": {},
   "source": [
    "Use Bootstrap and its grid system to transform the django.html and python.html files."
   ]
  },
  {
   "cell_type": "code",
   "execution_count": null,
   "id": "8c233050",
   "metadata": {},
   "outputs": [],
   "source": [
    "{% extends \"base.html\" %}\n",
    "{% block content %}\n",
    "\n",
    "<h1>Django</h1>\n",
    "\n",
    "<div class=\"row\">\n",
    "    <p class=\"col-2\">Django was created in 2003.</p>\n",
    "    <p class=\"col-4\">Adrian Holovaty, Simon Willison, and Jacob Kaplan-Moss are the co-creators of Django.</p>\n",
    "    <p class=\"col-6\">The framework was named for jazz guitarist Django Reinhardt.</p>\n",
    "</div>\n",
    "<a href=\"{% url 'python' %}\">Python</a>\n",
    "\n",
    "{% endblock content %}\n"
   ]
  },
  {
   "cell_type": "code",
   "execution_count": null,
   "id": "c55743cf",
   "metadata": {},
   "outputs": [],
   "source": [
    "{% extends \"base.html\" %}\n",
    "{% block content %}\n",
    "\n",
    "<h1>Python</h1>\n",
    "\n",
    "<div class=\"row\">\n",
    "    <p class=\"col-2\">Python was created in 1991.</p>\n",
    "</div>\n",
    "\n",
    "<div class=\"row\">\n",
    "    <p class=\"col-4\">Guido van Rossum is the creator of Python.</p>\n",
    "</div>\n",
    "\n",
    "<div class=\"row\">\n",
    "    <p class=\"col-6\">The language was named for the British comedy troupe Monty Python's Flying Circus.</p>\n",
    "</div>\n",
    "\n",
    "<a href=\"{% url 'django' %}\">Django</a>\n",
    "\n",
    "{% endblock content %}\n"
   ]
  },
  {
   "cell_type": "markdown",
   "id": "28f388ea",
   "metadata": {},
   "source": [
    "Create tests for both the django.html and python.html files."
   ]
  },
  {
   "cell_type": "code",
   "execution_count": null,
   "id": "2699f60a",
   "metadata": {},
   "outputs": [],
   "source": [
    "from django.test import SimpleTestCase\n",
    "from django.urls import reverse\n",
    "\n",
    "\n",
    "class DjangoPageTests(SimpleTestCase):\n",
    "    def test_url_pattern(self):\n",
    "        response = self.client.get(\"/\")\n",
    "        self.assertEqual(response.status_code, 200)\n",
    "\n",
    "    def test_url_name(self):\n",
    "        response = self.client.get(reverse(\"django\"))\n",
    "        self.assertEqual(response.status_code, 200)\n",
    "\n",
    "    def test_template_name(self):\n",
    "        response = self.client.get(reverse(\"django\"))\n",
    "        self.assertTemplateUsed(response, \"django.html\")\n",
    "\n",
    "    def test_rows_columns(self):\n",
    "        response = self.client.get(reverse(\"django\"))\n",
    "        self.assertContains(response, '<div class=\"row\">')\n",
    "        self.assertContains(response, '<p class=\"col-2\">')\n",
    "        self.assertContains(response, '<p class=\"col-4\">')\n",
    "        self.assertContains(response, '<p class=\"col-6\">')\n",
    "\n",
    "\n",
    "class PythonPageTests(SimpleTestCase):\n",
    "    def test_url_pattern(self):\n",
    "        response = self.client.get(\"/python/\")\n",
    "        self.assertEqual(response.status_code, 200)\n",
    "\n",
    "    def test_url_name(self):\n",
    "        response = self.client.get(reverse(\"python\"))\n",
    "        self.assertEqual(response.status_code, 200)\n",
    "\n",
    "    def test_template_name(self):\n",
    "        response = self.client.get(reverse(\"python\"))\n",
    "        self.assertTemplateUsed(response, \"python.html\")\n",
    "\n",
    "    def test_rows_columns(self):\n",
    "        response = self.client.get(reverse(\"python\"))\n",
    "        self.assertContains(response, '<div class=\"row\">', count=3)\n",
    "        self.assertContains(response, '<p class=\"col-2\">')\n",
    "        self.assertContains(response, '<p class=\"col-4\">')\n",
    "        self.assertContains(response, '<p class=\"col-6\">')\n"
   ]
  }
 ],
 "metadata": {
  "kernelspec": {
   "display_name": "Python 3 (ipykernel)",
   "language": "python",
   "name": "python3"
  },
  "language_info": {
   "codemirror_mode": {
    "name": "ipython",
    "version": 3
   },
   "file_extension": ".py",
   "mimetype": "text/x-python",
   "name": "python",
   "nbconvert_exporter": "python",
   "pygments_lexer": "ipython3",
   "version": "3.9.12"
  }
 },
 "nbformat": 4,
 "nbformat_minor": 5
}
