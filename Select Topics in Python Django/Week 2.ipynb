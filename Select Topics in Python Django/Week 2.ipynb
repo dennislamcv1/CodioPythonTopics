{
 "cells": [
  {
   "cell_type": "markdown",
   "id": "403cb484",
   "metadata": {},
   "source": [
    "The model Names1 has been created, but is not viewable in the Django Admin. In the IDE to the left, register the Names1 model with the Django Admin. Be sure to use the Black formatter to give your code a consistent style."
   ]
  },
  {
   "cell_type": "code",
   "execution_count": null,
   "id": "79756b7c",
   "metadata": {},
   "outputs": [],
   "source": [
    "from django.contrib import admin\n",
    "\n",
    "# Add your solution below\n",
    "from django.contrib import admin\n",
    "\n",
    "# Add your solution below \n",
    "from .models import Names1\n",
    "\n",
    "admin.site.register(Names1)\n"
   ]
  },
  {
   "cell_type": "markdown",
   "id": "8bebc129",
   "metadata": {},
   "source": [
    "The view uses the TemplateView class-based view. Change the view so that it produces a list of every record in the database. This view should use the Names2 model and the template \"q2.html\". Be sure to use the Black formatter to give your code a consistent style."
   ]
  },
  {
   "cell_type": "code",
   "execution_count": null,
   "id": "637dca1a",
   "metadata": {},
   "outputs": [],
   "source": [
    "from django.views.generic import TemplateView\n",
    "from django.views.generic import ListView\n",
    "from .models import Names2\n",
    "\n",
    "class Q2View(ListView):\n",
    "    model = Names2\n",
    "    template_name = \"q2.html\""
   ]
  },
  {
   "cell_type": "markdown",
   "id": "dec353c1",
   "metadata": {},
   "source": [
    "Modify the Names3 model so that it has the following fields"
   ]
  },
  {
   "cell_type": "code",
   "execution_count": null,
   "id": "701a8c66",
   "metadata": {},
   "outputs": [],
   "source": [
    "from django.db import models\n",
    "\n",
    "\n",
    "class Names3(models.Model):\n",
    "    text = models.TextField()\n",
    "    first_name = models.CharField(max_length=10)\n",
    "    last_name = models.CharField(max_length=20)\n",
    "    lucky_number = models.PositiveSmallIntegerField()\n",
    "\n",
    "    def __str__(self):\n",
    "        return self.first_name"
   ]
  },
  {
   "cell_type": "markdown",
   "id": "c16f0ef0",
   "metadata": {},
   "source": [
    "Modify the q4.html file so that information from every records is displayed on the web page. Use the following model for displaying the information:"
   ]
  },
  {
   "cell_type": "code",
   "execution_count": null,
   "id": "2546ade8",
   "metadata": {},
   "outputs": [],
   "source": [
    "<h1>Question 4</h1>\n",
    "\n",
    "{% for name in names4_list %}\n",
    "<p>{{ name.name }} is originally from {{ name.birthplace }}, but now lives in {{ name.current_location }}.</p>\n",
    "{% endfor %}\n"
   ]
  },
  {
   "cell_type": "markdown",
   "id": "19eea81b",
   "metadata": {},
   "source": [
    "Create Django tests for the following model:"
   ]
  },
  {
   "cell_type": "code",
   "execution_count": null,
   "id": "81ff9422",
   "metadata": {},
   "outputs": [],
   "source": [
    "from django.test import TestCase\n",
    "from .models import Names5\n",
    "\n",
    "class Names5Tests(TestCase):\n",
    "    @classmethod\n",
    "    def setUpTestData(cls):\n",
    "        cls.name = Names5.objects.create(name=\"Calvin\", age=7, favorite_movie=\"Jaws\")\n",
    "\n",
    "    def test_name(self):\n",
    "      self.assertEquals(self.name.name, \"Calvin\")\n",
    "\n",
    "    def test_age(self):\n",
    "      self.assertEquals(self.name.age, 7)\n",
    "\n",
    "    def test_favorite_movie(self):\n",
    "      self.assertEquals(self.name.favorite_movie, \"Jaws\")\n"
   ]
  }
 ],
 "metadata": {
  "kernelspec": {
   "display_name": "Python 3 (ipykernel)",
   "language": "python",
   "name": "python3"
  },
  "language_info": {
   "codemirror_mode": {
    "name": "ipython",
    "version": 3
   },
   "file_extension": ".py",
   "mimetype": "text/x-python",
   "name": "python",
   "nbconvert_exporter": "python",
   "pygments_lexer": "ipython3",
   "version": "3.9.12"
  }
 },
 "nbformat": 4,
 "nbformat_minor": 5
}
