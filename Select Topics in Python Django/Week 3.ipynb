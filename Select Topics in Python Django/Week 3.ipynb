{
 "cells": [
  {
   "cell_type": "markdown",
   "id": "d7cf2627",
   "metadata": {},
   "source": [
    "The Procfile (top) and runtime (bottom) are both open to the left. Fill out the files so that:"
   ]
  },
  {
   "cell_type": "markdown",
   "id": "4ce143b5",
   "metadata": {},
   "source": [
    "The correct Procfile is:\n",
    "    \n"
   ]
  },
  {
   "cell_type": "code",
   "execution_count": null,
   "id": "620dd0d9",
   "metadata": {},
   "outputs": [],
   "source": [
    "web: gunicorn my_website.wsgi --log-file -"
   ]
  },
  {
   "cell_type": "markdown",
   "id": "c7d8a755",
   "metadata": {},
   "source": [
    "The correct runtime file is:"
   ]
  },
  {
   "cell_type": "code",
   "execution_count": null,
   "id": "2b9e1e0e",
   "metadata": {},
   "outputs": [],
   "source": [
    "python-3.6.9"
   ]
  },
  {
   "cell_type": "markdown",
   "id": "afb78de5",
   "metadata": {},
   "source": [
    "The file open to the left is the .env file. Create environment variables for:"
   ]
  },
  {
   "cell_type": "code",
   "execution_count": null,
   "id": "a8f57c40",
   "metadata": {},
   "outputs": [],
   "source": [
    "FIRST_NAME=Marie\n",
    "LAST_NAME=Curie\n",
    "OCCUPATION=Scientist\n",
    "AGE=66\n"
   ]
  },
  {
   "cell_type": "markdown",
   "id": "473a435f",
   "metadata": {},
   "source": [
    "The environs module has already been installed. Create the Python code that reads from a .env file. Your Python script should do the following things"
   ]
  },
  {
   "cell_type": "code",
   "execution_count": null,
   "id": "107fc241",
   "metadata": {},
   "outputs": [],
   "source": [
    "from environs import Env\n",
    "\n",
    "env = Env()\n",
    "env.read_env()\n",
    "\n",
    "STUDENT = env.bool(\"STUDENT\")\n",
    "COURSE = env.str(\"COURSE\")\n",
    "GRADE = env.float(\"GRADE\", default=0.0)\n"
   ]
  },
  {
   "cell_type": "markdown",
   "id": "cddf380d",
   "metadata": {},
   "source": [
    "The q4 Django app has a form to add a new car to the database. Write a Django tests that verifies the form works as intended. Your test should do the following things"
   ]
  },
  {
   "cell_type": "code",
   "execution_count": null,
   "id": "9db3ebd5",
   "metadata": {},
   "outputs": [],
   "source": [
    "from django.test import TestCase\n",
    "from .models import Car\n",
    "from django.urls import reverse\n",
    "\n",
    "\n",
    "class Question4Test(TestCase):\n",
    "    def test_car_createview(self):\n",
    "        response = self.client.post(\n",
    "            reverse(\"new_car\"), {\"make\": \"Toyota\", \"model\": \"Camry\", \"color\": \"red\"}\n",
    "        )\n",
    "        self.assertEqual(response.status_code, 302)\n",
    "        self.assertEqual(Car.objects.last().make, \"Toyota\")\n",
    "        self.assertEqual(Car.objects.last().model, \"Camry\")\n",
    "        self.assertEqual(Car.objects.last().color, \"red\")\n"
   ]
  },
  {
   "cell_type": "markdown",
   "id": "d77e9117",
   "metadata": {},
   "source": [
    "This Django website lists all of the dogs in its database. The link of the bottom of the page to add a new dog directs to a blank page. You are going to create a form to add dogs to the database. Your form should do the following things:"
   ]
  },
  {
   "cell_type": "markdown",
   "id": "8cd5d0b6",
   "metadata": {},
   "source": [
    "Django View"
   ]
  },
  {
   "cell_type": "code",
   "execution_count": null,
   "id": "d4a42222",
   "metadata": {},
   "outputs": [],
   "source": [
    "from django.views.generic import ListView\n",
    "from django.views.generic.edit import CreateView\n",
    "from .models import Dog\n",
    "\n",
    "\n",
    "class HomeView(ListView):\n",
    "    model = Dog\n",
    "    template_name = \"q5home.html\"\n",
    "\n",
    "\n",
    "class NewDogView(CreateView):\n",
    "  model = Dog\n",
    "  template_name = 'new_dog.html'\n",
    "  fields = ['name', 'breed', 'age']\n"
   ]
  },
  {
   "cell_type": "markdown",
   "id": "b8957a83",
   "metadata": {},
   "source": [
    "Create the new_dog.html template"
   ]
  },
  {
   "cell_type": "code",
   "execution_count": null,
   "id": "14f6a588",
   "metadata": {},
   "outputs": [],
   "source": [
    "<html>\n",
    "  <head>\n",
    "    <title>New Dog</title>\n",
    "  </head>\n",
    "  <body>\n",
    "    <div>\n",
    "      <h3>New Dog</h3>\n",
    "      {% extends \"base.html\" %}\n",
    "      {% block content %}\n",
    "      <h3>New Dog</h3>\n",
    "      <form action=\"\" method=\"post\">{% csrf_token %}\n",
    "      {{ form.as_p }}\n",
    "      <input type=\"submit\" value=\"Save\">\n",
    "      </form>\n",
    "      {% endblock content %}\n",
    "\n",
    "    </div>\n",
    "  </body>\n",
    "</html>"
   ]
  }
 ],
 "metadata": {
  "kernelspec": {
   "display_name": "Python 3 (ipykernel)",
   "language": "python",
   "name": "python3"
  },
  "language_info": {
   "codemirror_mode": {
    "name": "ipython",
    "version": 3
   },
   "file_extension": ".py",
   "mimetype": "text/x-python",
   "name": "python",
   "nbconvert_exporter": "python",
   "pygments_lexer": "ipython3",
   "version": "3.9.12"
  }
 },
 "nbformat": 4,
 "nbformat_minor": 5
}
