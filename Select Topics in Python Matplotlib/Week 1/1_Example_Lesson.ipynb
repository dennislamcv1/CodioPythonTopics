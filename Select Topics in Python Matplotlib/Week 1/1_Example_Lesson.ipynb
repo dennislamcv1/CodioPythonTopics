{
 "cells": [
  {
   "cell_type": "markdown",
   "metadata": {},
   "source": [
    "----------\n",
    "\n",
    "# Iterating Over a List\n",
    "\n",
    "Python allows you to iterate over a list. That means starting with the first element and progressing through to the end of the list. Using a for loop is the easiest way to iterate over a list.\n",
    "\n",
    "<img src=\"img/iterating-list-variable-name.png\" style=\"width:50%\" />\n",
    "\n",
    "<details><summary><b>Number and Numbers</b></summary>In the example below, the iteration variable is `number` and the list is named `numbers`. This is a very common practice in Python. The list is always plural, while the iterating variable is the singular of the list name. Python will not throw an error if this convention is not followed. However, `for number in numbers` helps with the readability of your code. You should follow this convention as often as possible.</details>\n",
    "\n",
    "Enter and run the code below.\n",
    "\n",
    "```python\n",
    "numbers = [1, 2, 3, 4]\n",
    "for number in numbers:\n",
    "    print(number)\n",
    "```\n",
    "\n",
    "[Code Visualizer](http://pythontutor.com/visualize.html#code=numbers%20%3D%20%5B1,%202,%203,%204%5D%0Afor%20number%20in%20numbers%3A%0A%20%20%20%20print%28number%29&cumulative=false&curInstr=0&heapPrimitives=nevernest&mode=display&origin=opt-frontend.js&py=3&rawInputLstJSON=%5B%5D&textReferences=false)"
   ]
  },
  {
   "cell_type": "code",
   "execution_count": null,
   "metadata": {},
   "outputs": [],
   "source": [
    "numbers = [1, 2, 3, 4]\n",
    "for number in numbers:\n",
    "    print(number)"
   ]
  },
  {
   "cell_type": "markdown",
   "metadata": {},
   "source": []
  },
  {
   "cell_type": "markdown",
   "metadata": {},
   "source": [
    "### What happens if you:\n",
    "* Change the `print` statement to `print(numbers)` in your code above?"
   ]
  },
  {
   "cell_type": "code",
   "execution_count": null,
   "metadata": {},
   "outputs": [],
   "source": [
    "print(numbers)"
   ]
  }
 ],
 "metadata": {
  "kernelspec": {
   "display_name": "Python 3",
   "language": "python",
   "name": "python3"
  },
  "language_info": {
   "codemirror_mode": {
    "name": "ipython",
    "version": 3
   },
   "file_extension": ".py",
   "mimetype": "text/x-python",
   "name": "python",
   "nbconvert_exporter": "python",
   "pygments_lexer": "ipython3",
   "version": "3.6.9"
  }
 },
 "nbformat": 4,
 "nbformat_minor": 2
}
