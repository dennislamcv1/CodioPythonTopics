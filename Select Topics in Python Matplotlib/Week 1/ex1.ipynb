{
 "cells": [
  {
   "cell_type": "code",
   "execution_count": 1,
   "metadata": {},
   "outputs": [],
   "source": [
    "game =[\"Game 1\", \"Game 2\", \"Game 3\", \"Game 4\"]\n",
    "score = [5, 10, 20, 15]"
   ]
  },
  {
   "cell_type": "code",
   "execution_count": 2,
   "metadata": {
    "deletable": false,
    "nbgrader": {
     "checksum": "3d0146808a7e1fe454eedcb1f4ae7eaa",
     "grade": false,
     "grade_id": "cell-8c88e48416befede",
     "locked": false,
     "schema_version": 1,
     "solution": true
    }
   },
   "outputs": [
    {
     "data": {
      "image/png": "[encoded data removed]",
      "text/plain": [
       "<Figure size 432x288 with 1 Axes>"
      ]
     },
     "metadata": {
      "needs_background": "light"
     },
     "output_type": "display_data"
    }
   ],
   "source": [
    "import matplotlib.pyplot as plt\n",
    "%matplotlib inline\n",
    "fig, ax = plt.subplots()\n",
    "\n",
    "# YOUR CODE HERE\n",
    "plt.bar(game, score)\n",
    "plt.show()"
   ]
  },
  {
   "cell_type": "markdown",
   "metadata": {
    "deletable": false,
    "editable": false,
    "nbgrader": {
     "checksum": "5fbb460d1f287b047390c9eff2dfa41a",
     "grade": false,
     "grade_id": "cell-e07ac1f9f0c42b54",
     "locked": true,
     "schema_version": 1,
     "solution": false
    }
   },
   "source": [
    "### The cell below shows the auto-grader code\n",
    "You can run the below cell to get feedback on your code.\n",
    "\n",
    "Alternatively, you can click the **Validate** button in the Jupyter tool bar.\n",
    "![](Jupyter_Validate.png)"
   ]
  },
  {
   "cell_type": "code",
   "execution_count": 3,
   "metadata": {
    "deletable": false,
    "editable": false,
    "nbgrader": {
     "checksum": "d11ca5017dce344cd1cca1a53a19063d",
     "grade": true,
     "grade_id": "cell-32310ad8e75893b2",
     "locked": true,
     "points": 1,
     "schema_version": 1,
     "solution": false
    }
   },
   "outputs": [
    {
     "ename": "ModuleNotFoundError",
     "evalue": "No module named 'plotchecker'",
     "output_type": "error",
     "traceback": [
      "\u001b[1;31m---------------------------------------------------------------------------\u001b[0m",
      "\u001b[1;31mModuleNotFoundError\u001b[0m                       Traceback (most recent call last)",
      "Input \u001b[1;32mIn [3]\u001b[0m, in \u001b[0;36m<cell line: 1>\u001b[1;34m()\u001b[0m\n\u001b[1;32m----> 1\u001b[0m \u001b[38;5;28;01mfrom\u001b[39;00m \u001b[38;5;21;01mplotchecker\u001b[39;00m \u001b[38;5;28;01mimport\u001b[39;00m BarPlotChecker\n\u001b[0;32m      2\u001b[0m \u001b[38;5;66;03m# Docs: https://plotchecker.readthedocs.io/en/latest/\u001b[39;00m\n\u001b[0;32m      4\u001b[0m pc \u001b[38;5;241m=\u001b[39m BarPlotChecker(ax)\n",
      "\u001b[1;31mModuleNotFoundError\u001b[0m: No module named 'plotchecker'"
     ]
    }
   ],
   "source": [
    "from plotchecker import BarPlotChecker\n",
    "# Docs: https://plotchecker.readthedocs.io/en/latest/\n",
    "\n",
    "pc = BarPlotChecker(ax)\n",
    "pc.assert_heights_equal([5,10,20,15])\n",
    "\n",
    "print('All tests pass!')"
   ]
  },
  {
   "cell_type": "markdown",
   "metadata": {
    "deletable": false,
    "editable": false,
    "nbgrader": {
     "checksum": "39b911d61f4c0fdd677659c757a5a9d0",
     "grade": false,
     "grade_id": "cell-4bce573ee5ae4859",
     "locked": true,
     "schema_version": 1,
     "solution": false
    }
   },
   "source": [
    "![](Jupyter_Save.png)"
   ]
  }
 ],
 "metadata": {
  "kernelspec": {
   "display_name": "Python 3 (ipykernel)",
   "language": "python",
   "name": "python3"
  },
  "language_info": {
   "codemirror_mode": {
    "name": "ipython",
    "version": 3
   },
   "file_extension": ".py",
   "mimetype": "text/x-python",
   "name": "python",
   "nbconvert_exporter": "python",
   "pygments_lexer": "ipython3",
   "version": "3.9.12"
  }
 },
 "nbformat": 4,
 "nbformat_minor": 2
}
