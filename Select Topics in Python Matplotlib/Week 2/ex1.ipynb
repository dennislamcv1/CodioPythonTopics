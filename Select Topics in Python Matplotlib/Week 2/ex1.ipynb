{
 "cells": [
  {
   "cell_type": "code",
   "execution_count": 1,
   "metadata": {
    "deletable": false,
    "nbgrader": {
     "checksum": "a1cf66db09c61b52f6ee5f7dd0cba08a",
     "grade": false,
     "grade_id": "cell-8c88e48416befede",
     "locked": false,
     "schema_version": 1,
     "solution": true
    }
   },
   "outputs": [
    {
     "data": {
      "image/png": "[encoded data removed]",
      "text/plain": [
       "<Figure size 432x288 with 1 Axes>"
      ]
     },
     "metadata": {
      "needs_background": "light"
     },
     "output_type": "display_data"
    }
   ],
   "source": [
    "import matplotlib.pyplot as plt\n",
    "%matplotlib inline\n",
    "fig, ax = plt.subplots()\n",
    "\n",
    "x = [17, 72, 45, 86, 96, 24,27, 32, 38, 94, 70]\n",
    "y = [78, 35, 28, 75, 2, 22, 25,  41, 73, 51, 58]\n",
    "\n",
    "\n",
    "# YOUR CODE HERE\n",
    "plt.scatter(x,y)\n",
    "plt.title(\"Random Numbers\")\n",
    "plt.show()"
   ]
  },
  {
   "cell_type": "markdown",
   "metadata": {
    "deletable": false,
    "editable": false,
    "nbgrader": {
     "checksum": "5fbb460d1f287b047390c9eff2dfa41a",
     "grade": false,
     "grade_id": "cell-e07ac1f9f0c42b54",
     "locked": true,
     "schema_version": 1,
     "solution": false
    }
   },
   "source": [
    "### The cell below shows the auto-grader code\n",
    "You can run the below cell to get feedback on your code.\n",
    "\n",
    "Alternatively, you can click the **Validate** button in the Jupyter tool bar.\n",
    "![](Jupyter_Validate.png)"
   ]
  },
  {
   "cell_type": "code",
   "execution_count": 2,
   "metadata": {
    "deletable": false,
    "editable": false,
    "nbgrader": {
     "checksum": "7dd50303f8e2c2064bde6e5aab38fa4b",
     "grade": true,
     "grade_id": "cell-32310ad8e75893b2",
     "locked": true,
     "points": 1,
     "schema_version": 1,
     "solution": false
    }
   },
   "outputs": [
    {
     "name": "stdout",
     "output_type": "stream",
     "text": [
      "All tests pass!\n"
     ]
    }
   ],
   "source": [
    "from plotchecker import ScatterPlotChecker\n",
    "# Docs: https://plotchecker.readthedocs.io/en/latest/\n",
    "\n",
    "pc = ScatterPlotChecker(ax)\n",
    "pc.assert_x_data_equal([17, 72, 45, 86, 96, 24,27, 32, 38, 94, 70 ])\n",
    "pc.assert_y_data_equal([78, 35, 28, 75, 2, 22, 25,  41, 73, 51, 58])\n",
    "pc.assert_title_equal('Random Numbers')\n",
    "\n",
    "print('All tests pass!')"
   ]
  },
  {
   "cell_type": "markdown",
   "metadata": {
    "deletable": false,
    "editable": false,
    "nbgrader": {
     "checksum": "39b911d61f4c0fdd677659c757a5a9d0",
     "grade": false,
     "grade_id": "cell-4bce573ee5ae4859",
     "locked": true,
     "schema_version": 1,
     "solution": false
    }
   },
   "source": [
    "![](Jupyter_Save.png)"
   ]
  }
 ],
 "metadata": {
  "kernelspec": {
   "display_name": "Python 3",
   "language": "python",
   "name": "python3"
  },
  "language_info": {
   "codemirror_mode": {
    "name": "ipython",
    "version": 3
   },
   "file_extension": ".py",
   "mimetype": "text/x-python",
   "name": "python",
   "nbconvert_exporter": "python",
   "pygments_lexer": "ipython3",
   "version": "3.6.9"
  }
 },
 "nbformat": 4,
 "nbformat_minor": 2
}
