{
 "cells": [
  {
   "cell_type": "code",
   "execution_count": 1,
   "metadata": {
    "deletable": false,
    "nbgrader": {
     "checksum": "e1e095d9bdf1e3f725d16cefc724beb7",
     "grade": false,
     "grade_id": "cell-8c88e48416befede",
     "locked": false,
     "schema_version": 1,
     "solution": true
    }
   },
   "outputs": [
    {
     "data": {
      "image/png": "[encoded data removed]",
      "text/plain": [
       "<Figure size 432x288 with 1 Axes>"
      ]
     },
     "metadata": {},
     "output_type": "display_data"
    }
   ],
   "source": [
    "import matplotlib.pyplot as plt\n",
    "\n",
    "fig, ax = plt.subplots()\n",
    "\n",
    "group=[\"taurus\",\"pisces\",\"ares\",\"libra\"]\n",
    "total=[12312,13684,235665,423423]\n",
    "#colors=['blue','orange','green','red']\n",
    "\n",
    "# YOUR CODE HERE\n",
    "\n",
    "# Pie Chart\n",
    "plt.pie(total, labels = group, wedgeprops=dict(width=0.65),autopct='%1.1f%%')\n",
    "\n",
    "# draw circle\n",
    "centre_circle = plt.Circle((0, 0), 0.65, fc='white')\n",
    "fig = plt.gcf()\n",
    "\n",
    "# Adding Circle in Pie chart\n",
    "fig.gca().add_artist(centre_circle)\n",
    "\n",
    "plt.title(\"Horoscope Signs\")\n",
    "\n",
    "\n",
    "plt.show()"
   ]
  },
  {
   "cell_type": "markdown",
   "metadata": {
    "deletable": false,
    "editable": false,
    "nbgrader": {
     "checksum": "5fbb460d1f287b047390c9eff2dfa41a",
     "grade": false,
     "grade_id": "cell-e07ac1f9f0c42b54",
     "locked": true,
     "schema_version": 1,
     "solution": false
    }
   },
   "source": [
    "### The cell below shows the auto-grader code\n",
    "You can run the below cell to get feedback on your code.\n",
    "\n",
    "Alternatively, you can click the **Validate** button in the Jupyter tool bar.\n",
    "![](Jupyter_Validate.png)"
   ]
  },
  {
   "cell_type": "code",
   "execution_count": 2,
   "metadata": {
    "deletable": false,
    "editable": false,
    "nbgrader": {
     "checksum": "4ace63eafd996df71904690d71033df8",
     "grade": true,
     "grade_id": "cell-32310ad8e75893b2",
     "locked": true,
     "points": 1,
     "schema_version": 1,
     "solution": false
    }
   },
   "outputs": [
    {
     "name": "stdout",
     "output_type": "stream",
     "text": [
      "All tests pass!\n"
     ]
    }
   ],
   "source": [
    "## check labels on plot\n",
    "assert ax.texts[0]._text == 'taurus'\n",
    "assert '%' in ax.texts[1]._text\n",
    "assert ax.texts[2]._text == 'pisces'\n",
    "assert '%' in ax.texts[3]._text\n",
    "assert ax.texts[4]._text == 'ares'\n",
    "assert '%' in ax.texts[5]._text\n",
    "assert ax.texts[6]._text == 'libra'\n",
    "assert '%' in ax.texts[7]._text\n",
    "\n",
    "## check it is a donut plot\n",
    "assert ax.patches[0].width == 0.65\n",
    "\n",
    "\n",
    "## check size of wedges\n",
    "assert ax.patches[1].theta1 < 6.47\n",
    "assert ax.patches[1].theta1 > 6.46\n",
    "assert ax.patches[2].theta1 < 13.67\n",
    "assert ax.patches[2].theta1 > 13.66\n",
    "assert ax.patches[3].theta1 < 137.50\n",
    "assert ax.patches[3].theta1 > 137.49\n",
    "\n",
    "print('All tests pass!')"
   ]
  },
  {
   "cell_type": "markdown",
   "metadata": {
    "deletable": false,
    "editable": false,
    "nbgrader": {
     "checksum": "39b911d61f4c0fdd677659c757a5a9d0",
     "grade": false,
     "grade_id": "cell-4bce573ee5ae4859",
     "locked": true,
     "schema_version": 1,
     "solution": false
    }
   },
   "source": [
    "![](Jupyter_Save.png)"
   ]
  }
 ],
 "metadata": {
  "kernelspec": {
   "display_name": "Python 3 (ipykernel)",
   "language": "python",
   "name": "python3"
  },
  "language_info": {
   "codemirror_mode": {
    "name": "ipython",
    "version": 3
   },
   "file_extension": ".py",
   "mimetype": "text/x-python",
   "name": "python",
   "nbconvert_exporter": "python",
   "pygments_lexer": "ipython3",
   "version": "3.9.12"
  }
 },
 "nbformat": 4,
 "nbformat_minor": 2
}
