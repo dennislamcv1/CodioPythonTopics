{
 "cells": [
  {
   "cell_type": "code",
   "execution_count": 1,
   "metadata": {
    "deletable": false,
    "nbgrader": {
     "checksum": "ae48c8313ddf82bb47a32b8007e0da1b",
     "grade": false,
     "grade_id": "cell-8c88e48416befede",
     "locked": false,
     "schema_version": 1,
     "solution": true
    }
   },
   "outputs": [
    {
     "data": {
      "image/png": "[encoded data removed]",
      "text/plain": [
       "<Figure size 432x288 with 1 Axes>"
      ]
     },
     "metadata": {
      "needs_background": "light"
     },
     "output_type": "display_data"
    }
   ],
   "source": [
    "import matplotlib.pyplot as plt\n",
    "import numpy as np\n",
    "%matplotlib inline\n",
    "\n",
    "fig, ax = plt.subplots()\n",
    "\n",
    "sector=[\"Technology\",\"Marketing\", \"Real Estate\", \"Other\"]\n",
    "\n",
    "grade=[\"Freshman\", \"Sophomore\", \"Junior\", \"Senior\"]\n",
    "\n",
    "number = np.array([[89,50,65,55],\n",
    "         [30,41,37,46],\n",
    "         [20,12,35,23],\n",
    "         [12,20,9,3]])\n",
    "\n",
    "\n",
    "\n",
    "# YOUR CODE HERE\n",
    "\n",
    "im = ax.imshow(number)\n",
    "# We want to show all ticks...\n",
    "ax.set_xticks(np.arange(len(sector)))\n",
    "ax.set_yticks(np.arange(len(grade)))\n",
    "# ... and label them with the respective list entries\n",
    "ax.set_xticklabels(sector)\n",
    "ax.set_yticklabels(grade)\n",
    "\n",
    "plt.title(\"Student interest in future career sectors\")\n",
    "\n",
    "fig.tight_layout()\n",
    "plt.show()"
   ]
  },
  {
   "cell_type": "markdown",
   "metadata": {
    "deletable": false,
    "editable": false,
    "nbgrader": {
     "checksum": "5fbb460d1f287b047390c9eff2dfa41a",
     "grade": false,
     "grade_id": "cell-e07ac1f9f0c42b54",
     "locked": true,
     "schema_version": 1,
     "solution": false
    }
   },
   "source": [
    "### The cell below shows the auto-grader code\n",
    "You can run the below cell to get feedback on your code.\n",
    "\n",
    "Alternatively, you can click the **Validate** button in the Jupyter tool bar.\n",
    "![](Jupyter_Validate.png)"
   ]
  },
  {
   "cell_type": "code",
   "execution_count": 2,
   "metadata": {
    "deletable": false,
    "editable": false,
    "nbgrader": {
     "checksum": "116421f0b737ad802a1fcde80b18834f",
     "grade": true,
     "grade_id": "cell-32310ad8e75893b2",
     "locked": true,
     "points": 1,
     "schema_version": 1,
     "solution": false
    }
   },
   "outputs": [
    {
     "name": "stdout",
     "output_type": "stream",
     "text": [
      "All tests pass!\n"
     ]
    }
   ],
   "source": [
    "## check data\n",
    "assert (im._A.data[0] == [89, 50, 65, 55]).all()\n",
    "assert (im._A.data[1] == [30, 41, 37, 46]).all()\n",
    "assert (im._A.data[2] == [20, 12, 35, 23]).all()\n",
    "assert (im._A.data[3] == [12, 20, 9, 3]).all()\n",
    "\n",
    "## check labels\n",
    "assert ax.xaxis.majorTicks[0].label._text == 'Technology'\n",
    "assert ax.xaxis.majorTicks[1].label._text == 'Marketing'\n",
    "assert ax.xaxis.majorTicks[2].label._text == 'Real Estate'\n",
    "assert ax.xaxis.majorTicks[3].label._text == 'Other'\n",
    "\n",
    "assert ax.yaxis.majorTicks[0].label._text == 'Freshman'\n",
    "assert ax.yaxis.majorTicks[1].label._text == 'Sophomore'\n",
    "assert ax.yaxis.majorTicks[2].label._text == 'Junior'\n",
    "assert ax.yaxis.majorTicks[3].label._text == 'Senior'\n",
    "\n",
    "print('All tests pass!')"
   ]
  },
  {
   "cell_type": "markdown",
   "metadata": {
    "deletable": false,
    "editable": false,
    "nbgrader": {
     "checksum": "39b911d61f4c0fdd677659c757a5a9d0",
     "grade": false,
     "grade_id": "cell-4bce573ee5ae4859",
     "locked": true,
     "schema_version": 1,
     "solution": false
    }
   },
   "source": [
    "![](Jupyter_Save.png)"
   ]
  }
 ],
 "metadata": {
  "kernelspec": {
   "display_name": "Python 3 (ipykernel)",
   "language": "python",
   "name": "python3"
  },
  "language_info": {
   "codemirror_mode": {
    "name": "ipython",
    "version": 3
   },
   "file_extension": ".py",
   "mimetype": "text/x-python",
   "name": "python",
   "nbconvert_exporter": "python",
   "pygments_lexer": "ipython3",
   "version": "3.9.12"
  }
 },
 "nbformat": 4,
 "nbformat_minor": 2
}
