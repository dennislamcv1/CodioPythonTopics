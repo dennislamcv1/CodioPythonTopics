{
 "cells": [
  {
   "cell_type": "markdown",
   "id": "28df5ea3",
   "metadata": {},
   "source": [
    "In the top-left pane, implement a bag of words model using documents which will capture keyboard input."
   ]
  },
  {
   "cell_type": "code",
   "execution_count": 1,
   "id": "6770b192",
   "metadata": {},
   "outputs": [
    {
     "name": "stdout",
     "output_type": "stream",
     "text": [
      "Enter document contents or type `exit` to end input: This is the first document. This document is the second document. And this is the third one. Is this the first document?\n",
      "Enter document contents or type `exit` to end input: exit\n",
      "['document document', 'document second', 'second document']\n",
      "[[2 1 1]]\n"
     ]
    },
    {
     "name": "stderr",
     "output_type": "stream",
     "text": [
      "C:\\ProgramData\\Anaconda3\\lib\\site-packages\\sklearn\\utils\\deprecation.py:87: FutureWarning: Function get_feature_names is deprecated; get_feature_names is deprecated in 1.0 and will be removed in 1.2. Please use get_feature_names_out instead.\n",
      "  warnings.warn(msg, category=FutureWarning)\n"
     ]
    }
   ],
   "source": [
    "from sklearn.feature_extraction.text import CountVectorizer\n",
    "\n",
    "# Collect user input\n",
    "documents = []\n",
    "text = input(\"Enter document contents or type `exit` to end input: \")\n",
    "while text.strip() != 'exit':\n",
    "    documents.append(text.strip())\n",
    "    text = input(\"Enter document contents or type `exit` to end input: \")\n",
    "\n",
    "vectorizer = CountVectorizer(analyzer='word', ngram_range=(2, 2), stop_words='english')\n",
    "X = vectorizer.fit_transform(documents)\n",
    "print(vectorizer.get_feature_names())\n",
    "print(X.toarray())"
   ]
  },
  {
   "cell_type": "markdown",
   "id": "3fc5d90c",
   "metadata": {},
   "source": [
    "In the top-left pane, implement a TF-IDF scored bag of words model using documents which will capture keyboard input."
   ]
  },
  {
   "cell_type": "code",
   "execution_count": 3,
   "id": "3b1b9a3e",
   "metadata": {},
   "outputs": [
    {
     "name": "stdout",
     "output_type": "stream",
     "text": [
      "Enter document contents or type `exit` to end input: This is the first document. This document is the second document. \n",
      "Enter document contents or type `exit` to end input: exit\n",
      "['document', 'second']\n",
      "[[0.9486833  0.31622777]]\n"
     ]
    }
   ],
   "source": [
    "from sklearn.feature_extraction.text import TfidfVectorizer\n",
    "\n",
    "# Collect user input\n",
    "documents = []\n",
    "text = input(\"Enter document contents or type `exit` to end input: \")\n",
    "while text.strip() != 'exit':\n",
    "    documents.append(text.strip())\n",
    "    text = input(\"Enter document contents or type `exit` to end input: \")\n",
    "\n",
    "vectorizer = TfidfVectorizer(stop_words='english')\n",
    "X = vectorizer.fit_transform(documents)\n",
    "\n",
    "print(vectorizer.get_feature_names())\n",
    "print(X.toarray())"
   ]
  },
  {
   "cell_type": "markdown",
   "id": "0e9d4d5f",
   "metadata": {},
   "source": [
    "In the top-left pane, write code that will calculate and print the Jaccard score of the two documents which will be captured by keyboard input."
   ]
  },
  {
   "cell_type": "code",
   "execution_count": 4,
   "id": "b2406864",
   "metadata": {},
   "outputs": [
    {
     "name": "stdout",
     "output_type": "stream",
     "text": [
      "Enter first document contents: first\n",
      "Enter second document contents: second\n",
      "The Jaccard similarity coefficient score between these documents is: \n",
      "0.0\n"
     ]
    }
   ],
   "source": [
    "from sklearn.feature_extraction.text import CountVectorizer\n",
    "from sklearn.metrics import jaccard_score\n",
    "\n",
    "# Collect user input\n",
    "documents = []\n",
    "documents.append(input(\"Enter first document contents: \").strip())\n",
    "documents.append(input(\"Enter second document contents: \").strip())\n",
    "print(\"The Jaccard similarity coefficient score between these documents is: \")\n",
    "\n",
    "# WRITE YOUR CODE HERE\n",
    "\n",
    "vectorizer = CountVectorizer(stop_words='english', binary=True)\n",
    "X = vectorizer.fit_transform(documents)\n",
    "\n",
    "print(jaccard_score(X.toarray()[0], X.toarray()[1]))"
   ]
  },
  {
   "cell_type": "markdown",
   "id": "89e2b8a9",
   "metadata": {},
   "source": [
    "In the top-left pane, write code that will calculate and print the Euclidean Distance of the documents which will be captured by keyboard input."
   ]
  },
  {
   "cell_type": "code",
   "execution_count": 5,
   "id": "59673901",
   "metadata": {},
   "outputs": [
    {
     "name": "stdout",
     "output_type": "stream",
     "text": [
      "Enter document contents or type `exit` to end input: This is the first document.\n",
      "Enter document contents or type `exit` to end input: This document is the second document.\n",
      "Enter document contents or type `exit` to end input: exit\n",
      "The eucledian distances between these documents are: \n",
      "[[0. 1.]\n",
      " [1. 0.]]\n"
     ]
    }
   ],
   "source": [
    "from sklearn.feature_extraction.text import CountVectorizer\n",
    "from sklearn.metrics.pairwise import euclidean_distances\n",
    "\n",
    "# Collect user input\n",
    "documents = []\n",
    "text = input(\"Enter document contents or type `exit` to end input: \")\n",
    "while text.strip() != 'exit':\n",
    "    documents.append(text.strip())\n",
    "    text = input(\"Enter document contents or type `exit` to end input: \")\n",
    "print(\"The eucledian distances between these documents are: \")\n",
    "\n",
    "vectorizer = CountVectorizer(stop_words='english', binary=True)\n",
    "X = vectorizer.fit_transform(documents)\n",
    "\n",
    "print( euclidean_distances(X) )"
   ]
  },
  {
   "cell_type": "markdown",
   "id": "f2d3a622",
   "metadata": {},
   "source": [
    "In the top-left pane, write code that will calculate and print the Cosine Similarity of the documents which will be captured by keyboard input."
   ]
  },
  {
   "cell_type": "code",
   "execution_count": 6,
   "id": "d917649f",
   "metadata": {},
   "outputs": [
    {
     "name": "stdout",
     "output_type": "stream",
     "text": [
      "Enter document contents or type `exit` to end input: This is the first document.\n",
      "Enter document contents or type `exit` to end input: This document is the second document.\n",
      "Enter document contents or type `exit` to end input: exit\n",
      "The cosine similarities between these documents are: \n",
      "[[1.         0.70710678]\n",
      " [0.70710678 1.        ]]\n"
     ]
    }
   ],
   "source": [
    "from sklearn.feature_extraction.text import CountVectorizer\n",
    "from sklearn.metrics.pairwise import cosine_similarity\n",
    "\n",
    "# Collect user input\n",
    "documents = []\n",
    "text = input(\"Enter document contents or type `exit` to end input: \")\n",
    "while text.strip() != 'exit':\n",
    "    documents.append(text.strip())\n",
    "    text = input(\"Enter document contents or type `exit` to end input: \")\n",
    "print(\"The cosine similarities between these documents are: \")\n",
    "\n",
    "vectorizer = CountVectorizer(stop_words='english', binary=True)\n",
    "X = vectorizer.fit_transform(documents)\n",
    "\n",
    "print( cosine_similarity(X) )"
   ]
  },
  {
   "cell_type": "code",
   "execution_count": null,
   "id": "470c7457",
   "metadata": {},
   "outputs": [],
   "source": []
  }
 ],
 "metadata": {
  "kernelspec": {
   "display_name": "Python 3 (ipykernel)",
   "language": "python",
   "name": "python3"
  },
  "language_info": {
   "codemirror_mode": {
    "name": "ipython",
    "version": 3
   },
   "file_extension": ".py",
   "mimetype": "text/x-python",
   "name": "python",
   "nbconvert_exporter": "python",
   "pygments_lexer": "ipython3",
   "version": "3.9.12"
  }
 },
 "nbformat": 4,
 "nbformat_minor": 5
}
