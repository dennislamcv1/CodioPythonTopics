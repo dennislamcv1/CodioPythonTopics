{
 "cells": [
  {
   "cell_type": "markdown",
   "id": "3e0be585",
   "metadata": {},
   "source": [
    "Create and activate the virtual environment ex1. Then install the colorama package."
   ]
  },
  {
   "cell_type": "markdown",
   "id": "9d199aa2",
   "metadata": {},
   "source": [
    "python3 -m venv ex1\n",
    "\n",
    "source ex1/bin/activate\n",
    "\n",
    "python3 -m pip install colorama\n"
   ]
  },
  {
   "cell_type": "markdown",
   "id": "04bcb9fe",
   "metadata": {},
   "source": [
    "The virtual environment ex2 already exists. Activate ex2 with the following command:"
   ]
  },
  {
   "cell_type": "markdown",
   "id": "7a1b8925",
   "metadata": {},
   "source": [
    "source ex2/bin/activate\n"
   ]
  },
  {
   "cell_type": "markdown",
   "id": "29c50d43",
   "metadata": {},
   "source": [
    "python3 -m pip uninstall scipy numpy -y\n"
   ]
  },
  {
   "cell_type": "markdown",
   "id": "0d0cc1c6",
   "metadata": {},
   "source": [
    "Create the text file requirements.txt that contains a list of all of the packages installed in the ex3 virtual environment."
   ]
  },
  {
   "cell_type": "markdown",
   "id": "a4813b47",
   "metadata": {},
   "source": [
    "source ex3/bin/activate\n"
   ]
  },
  {
   "cell_type": "markdown",
   "id": "95eb689c",
   "metadata": {},
   "source": [
    "python3 -m pip freeze > requirements.txt\n"
   ]
  },
  {
   "cell_type": "markdown",
   "id": "2c41fa58",
   "metadata": {},
   "source": [
    "Remove all of the third-party packages found in the ex4 virtual environment. Activate ex4 with the following command: \n",
    "\n",
    "source ex4/bin/activate\n"
   ]
  },
  {
   "cell_type": "markdown",
   "id": "f3563a34",
   "metadata": {},
   "source": [
    "python3 -m pip freeze > requirements.txt\n",
    "\n",
    "python3 -m pip uninstall -r requirements.txt -y\n"
   ]
  },
  {
   "cell_type": "markdown",
   "id": "df20813a",
   "metadata": {},
   "source": [
    "Activate the ex5 virtual environment: source ex5/bin/activate\n"
   ]
  },
  {
   "cell_type": "markdown",
   "id": "86f8d561",
   "metadata": {},
   "source": [
    "from setuptools import setup\n",
    "\n",
    "setup(\n",
    "   name='my_package',\n",
    "   version='1.0',\n",
    "   packages=['my_package'],\n",
    "   author='Calvin & Hobbes'\n",
    ")\n",
    "\n"
   ]
  },
  {
   "cell_type": "markdown",
   "id": "f930d82a",
   "metadata": {},
   "source": [
    "python3 setup.py sdist bdist_wheel\n"
   ]
  },
  {
   "cell_type": "markdown",
   "id": "c132445e",
   "metadata": {},
   "source": []
  },
  {
   "cell_type": "markdown",
   "id": "8313102e",
   "metadata": {},
   "source": []
  }
 ],
 "metadata": {
  "kernelspec": {
   "display_name": "Python 3 (ipykernel)",
   "language": "python",
   "name": "python3"
  },
  "language_info": {
   "codemirror_mode": {
    "name": "ipython",
    "version": 3
   },
   "file_extension": ".py",
   "mimetype": "text/x-python",
   "name": "python",
   "nbconvert_exporter": "python",
   "pygments_lexer": "ipython3",
   "version": "3.9.12"
  }
 },
 "nbformat": 4,
 "nbformat_minor": 5
}
