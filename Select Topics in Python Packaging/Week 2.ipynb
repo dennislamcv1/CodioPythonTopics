{
 "cells": [
  {
   "cell_type": "markdown",
   "id": "4c16c81a",
   "metadata": {},
   "source": [
    "The poetry project ex1 has already been created for you. In addition, several packages have already been installed. However, you need to make the following changes to the virtual environment:"
   ]
  },
  {
   "cell_type": "markdown",
   "id": "5aa518a1",
   "metadata": {},
   "source": [
    "grep -c requests pyproject.toml\n"
   ]
  },
  {
   "cell_type": "markdown",
   "id": "357e0181",
   "metadata": {},
   "source": [
    "grep fire pyproject.toml\n"
   ]
  },
  {
   "cell_type": "markdown",
   "id": "620cb1f4",
   "metadata": {},
   "source": [
    "grep -A 2 dev pyproject.toml\n"
   ]
  },
  {
   "cell_type": "markdown",
   "id": "db7864cc",
   "metadata": {},
   "source": [
    "poetry remove requests\n"
   ]
  },
  {
   "cell_type": "markdown",
   "id": "5651817d",
   "metadata": {},
   "source": [
    "poetry add fire\n"
   ]
  },
  {
   "cell_type": "markdown",
   "id": "4019e712",
   "metadata": {},
   "source": [
    "poetry add black --dev\n"
   ]
  },
  {
   "cell_type": "markdown",
   "id": "b30ee49b",
   "metadata": {},
   "source": [
    "The poetry project ex2 has already been created for you. In addition, several packages have already been installed. However, the following packages are out of date"
   ]
  },
  {
   "cell_type": "markdown",
   "id": "ebe536b6",
   "metadata": {},
   "source": [
    "poetry add beautifulsoup4@latest fire@latest pygame@latest python-twitter@latest\n"
   ]
  },
  {
   "cell_type": "markdown",
   "id": "b3710196",
   "metadata": {},
   "source": [
    "A variety of packages have already been installed in the ex3 virtual environment. Roll back to a previous revision such that django and flask are installed while matplotlib and scipy are not."
   ]
  },
  {
   "cell_type": "markdown",
   "id": "5d36d314",
   "metadata": {},
   "source": [
    "conda install --revision 2\n"
   ]
  },
  {
   "cell_type": "markdown",
   "id": "60fa970e",
   "metadata": {},
   "source": [
    "The Poetry project ex4 has already been created for you. Create a pure Python wheel that runs on any platform. You should not create a source distribution of the project."
   ]
  },
  {
   "cell_type": "markdown",
   "id": "7b029820",
   "metadata": {},
   "source": [
    "poetry build --format wheel\n"
   ]
  },
  {
   "cell_type": "markdown",
   "id": "6c96b85e",
   "metadata": {},
   "source": [
    "Create the virtual environment ex5. Then install the following packages:"
   ]
  },
  {
   "cell_type": "markdown",
   "id": "266da590",
   "metadata": {},
   "source": [
    "conda create --name ex5 python=3.7 scipy flask matplotlib -y\n"
   ]
  },
  {
   "cell_type": "markdown",
   "id": "d6271326",
   "metadata": {},
   "source": [
    "conda activate ex5\n"
   ]
  },
  {
   "cell_type": "markdown",
   "id": "06f8ce0f",
   "metadata": {},
   "source": [
    "pip install python-twitter\n"
   ]
  },
  {
   "cell_type": "markdown",
   "id": "b1c45c46",
   "metadata": {},
   "source": [
    "conda env export > requirements.yaml\n"
   ]
  },
  {
   "cell_type": "markdown",
   "id": "86cacc52",
   "metadata": {},
   "source": []
  },
  {
   "cell_type": "markdown",
   "id": "dc0179e8",
   "metadata": {},
   "source": []
  }
 ],
 "metadata": {
  "kernelspec": {
   "display_name": "Python 3 (ipykernel)",
   "language": "python",
   "name": "python3"
  },
  "language_info": {
   "codemirror_mode": {
    "name": "ipython",
    "version": 3
   },
   "file_extension": ".py",
   "mimetype": "text/x-python",
   "name": "python",
   "nbconvert_exporter": "python",
   "pygments_lexer": "ipython3",
   "version": "3.9.12"
  }
 },
 "nbformat": 4,
 "nbformat_minor": 5
}
