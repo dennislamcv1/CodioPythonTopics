{
 "cells": [
  {
   "cell_type": "markdown",
   "id": "3d5be059",
   "metadata": {},
   "source": [
    "You are currently in the ex1 directory, which contains the script exercise1.py. The Pyinstaller is already installed in the virtual environment. Convert the Python script exercise1.py into an executable file using the one-folder approach."
   ]
  },
  {
   "cell_type": "code",
   "execution_count": null,
   "id": "6dcb8000",
   "metadata": {},
   "outputs": [],
   "source": [
    "pyinstaller exercise1.py\n"
   ]
  },
  {
   "cell_type": "markdown",
   "id": "98ab4d64",
   "metadata": {},
   "source": [
    "The open Dockerfile is empty. Complete the Dockerfile so that it"
   ]
  },
  {
   "cell_type": "code",
   "execution_count": null,
   "id": "027ef186",
   "metadata": {},
   "outputs": [],
   "source": [
    "FROM python:3.9\n",
    "\n",
    "COPY . /project\n",
    "\n",
    "WORKDIR /project\n",
    "\n",
    "ENTRYPOINT [\"python\", \"my_script.py\"]\n"
   ]
  },
  {
   "cell_type": "markdown",
   "id": "edf578a6",
   "metadata": {},
   "source": [
    "The Pyinstaller package has already been installed. Create just a spec file for Pyinstaller such that"
   ]
  },
  {
   "cell_type": "code",
   "execution_count": null,
   "id": "6ebe9bb9",
   "metadata": {},
   "outputs": [],
   "source": [
    "pyi-makespec exercise3.py --name my_app --paths=code/coding_exercise3\n"
   ]
  },
  {
   "cell_type": "markdown",
   "id": "d1ede04e",
   "metadata": {},
   "source": [
    "Both Kivy and Pyinstaller have already been installed on the virtual environment. Create a Kivy GUI app using the following criteria"
   ]
  },
  {
   "cell_type": "code",
   "execution_count": null,
   "id": "e6fffb8a",
   "metadata": {},
   "outputs": [],
   "source": [
    "from kivy.app import App\n",
    "from kivy.uix.gridlayout import GridLayout\n",
    "from kivy.uix.label import Label\n",
    "\n",
    "class Exercise4(App):\n",
    "  def build(self):\n",
    "    # define the window\n",
    "    self.window = GridLayout(cols=3)\n",
    "\n",
    "    # define the widgets\n",
    "    label1 = Label(text='Hello', font_size=36)\n",
    "    label2 = Label(text='from', font_size=36)\n",
    "    label3 = Label(text='Kivy', font_size=36)\n",
    "\n",
    "    # add the widgets\n",
    "    self.window.add_widget(label1)\n",
    "    self.window.add_widget(label2)\n",
    "    self.window.add_widget(label3)\n",
    "\n",
    "    return self.window\n",
    "\n",
    "if __name__ == \"__main__\":\n",
    "  Exercise4().run()\n"
   ]
  },
  {
   "cell_type": "code",
   "execution_count": null,
   "id": "9a0cd1cf",
   "metadata": {},
   "outputs": [],
   "source": [
    "pytinstaller exercise4.py --name hello -w\n"
   ]
  },
  {
   "cell_type": "markdown",
   "id": "14d3c74f",
   "metadata": {},
   "source": [
    "You are currently in the ex5 directory, which contains the script exercise5.py. The Pyinstaller package is already installed in the virtual environment. Create a program that does the following things:"
   ]
  },
  {
   "cell_type": "code",
   "execution_count": null,
   "id": "446b6c8f",
   "metadata": {},
   "outputs": [],
   "source": [
    "while True:\n",
    "  txt = input('Enter some text: ')\n",
    "  if txt == 'q':\n",
    "    print('Goodbye!')\n",
    "    break\n",
    "  else:\n",
    "    print(len(txt))\n"
   ]
  },
  {
   "cell_type": "code",
   "execution_count": null,
   "id": "bdf49b51",
   "metadata": {},
   "outputs": [],
   "source": [
    "pyinstaller exercise5.py --onefile\n"
   ]
  }
 ],
 "metadata": {
  "kernelspec": {
   "display_name": "Python 3 (ipykernel)",
   "language": "python",
   "name": "python3"
  },
  "language_info": {
   "codemirror_mode": {
    "name": "ipython",
    "version": 3
   },
   "file_extension": ".py",
   "mimetype": "text/x-python",
   "name": "python",
   "nbconvert_exporter": "python",
   "pygments_lexer": "ipython3",
   "version": "3.9.12"
  }
 },
 "nbformat": 4,
 "nbformat_minor": 5
}
